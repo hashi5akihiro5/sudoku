{
 "cells": [
  {
   "cell_type": "markdown",
   "metadata": {},
   "source": [
    "# プログラムの流れ\n",
    "１．インプット  \n",
    "２．数字を入力するマスを決める  \n",
    "３．数字を入力し、数独の法則に違反していないかチェックする  \n",
    "４．違反していれば巻き戻り、違反していなければ次へ進む  \n",
    "５．すべて埋まるまで繰り返す  \n",
    "６．アウトプット"
   ]
  },
  {
   "cell_type": "markdown",
   "metadata": {},
   "source": [
    "<img src=\"example.png\">"
   ]
  },
  {
   "cell_type": "markdown",
   "metadata": {},
   "source": [
    "## 1.インプット"
   ]
  },
  {
   "cell_type": "code",
   "execution_count": 22,
   "metadata": {},
   "outputs": [],
   "source": [
    "input_grid = [\n",
    "    [0, 1, 8, 0, 0, 0, 3, 2, 0], # 1行目\n",
    "    [2, 5, 0, 0, 0, 0, 0, 4, 6], # 2行目\n",
    "    [0, 0, 4, 6, 5, 2, 1, 0, 0], # 3行目\n",
    "    [0, 0, 6, 0, 7, 0, 2, 0, 0], # 4行目\n",
    "    [0, 2, 0, 0, 4, 0, 0, 5, 0], # 5行目\n",
    "    [0, 0, 3, 1, 0, 8, 7, 0, 0], # 6行目\n",
    "    [0, 0, 2, 5, 3, 9, 4, 0, 0], # 7行目\n",
    "    [4, 9, 0, 0, 0, 0, 0, 8, 3], # 8行目\n",
    "    [0, 7, 0, 0, 0, 0, 0, 9, 0], # 9行目\n",
    "]\n",
    "\n",
    "# 全てのマスに入っている状態\n",
    "#input_grid = [[9 for i in range(9)] for i in range(9)]"
   ]
  },
  {
   "cell_type": "code",
   "execution_count": 5,
   "metadata": {},
   "outputs": [
    {
     "data": {
      "text/plain": [
       "[[0, 1, 8, 0, 0, 0, 3, 2, 0],\n",
       " [2, 5, 0, 0, 0, 0, 0, 4, 6],\n",
       " [0, 0, 4, 6, 5, 2, 1, 0, 0],\n",
       " [0, 0, 6, 0, 7, 0, 2, 0, 0],\n",
       " [0, 2, 0, 0, 4, 0, 0, 5, 0],\n",
       " [0, 0, 3, 1, 0, 8, 7, 0, 0],\n",
       " [0, 0, 2, 5, 3, 9, 4, 0, 0],\n",
       " [4, 9, 0, 0, 0, 0, 0, 8, 3],\n",
       " [0, 7, 0, 0, 0, 0, 0, 9, 0]]"
      ]
     },
     "execution_count": 5,
     "metadata": {},
     "output_type": "execute_result"
    }
   ],
   "source": [
    "input_grid"
   ]
  },
  {
   "cell_type": "markdown",
   "metadata": {},
   "source": [
    "## 2.数字を入力するマスを決める "
   ]
  },
  {
   "cell_type": "markdown",
   "metadata": {},
   "source": [
    "## 2.1 「0」のマスを返す"
   ]
  },
  {
   "cell_type": "code",
   "execution_count": 21,
   "metadata": {},
   "outputs": [
    {
     "name": "stdout",
     "output_type": "stream",
     "text": [
      "[0, 1, 8, 0, 0, 0, 3, 2, 0]\n",
      "[2, 5, 0, 0, 0, 0, 0, 4, 6]\n",
      "[0, 0, 4, 6, 5, 2, 1, 0, 0]\n",
      "[0, 2, 0, 0, 4, 0, 0, 5, 0]\n",
      "[0, 0, 3, 1, 0, 8, 7, 0, 0]\n",
      "[0, 0, 2, 5, 3, 9, 4, 0, 0]\n",
      "[0, 0, 2, 5, 3, 9, 4, 0, 0]\n",
      "[4, 9, 0, 0, 0, 0, 0, 8, 3]\n",
      "[0, 7, 0, 0, 0, 0, 0, 9, 0]\n"
     ]
    }
   ],
   "source": [
    "# 行\n",
    "for row in range(9):\n",
    "    print(input_grid[row])"
   ]
  },
  {
   "cell_type": "code",
   "execution_count": null,
   "metadata": {},
   "outputs": [],
   "source": [
    "# 行\n",
    "for row in range(9):\n",
    "    for col in range(9):\n",
    "        print(input_grid[row][col])"
   ]
  },
  {
   "cell_type": "code",
   "execution_count": 8,
   "metadata": {},
   "outputs": [],
   "source": [
    "def find_next_cell(grid):\n",
    "    for row in range(9):\n",
    "        for col in range(9):\n",
    "            # 0の座標を返す\n",
    "            if grid[row][col] == 0:\n",
    "                return row, col\n",
    "    # 全てのマスに数字が入っている状態\n",
    "    return -1, -1"
   ]
  },
  {
   "cell_type": "code",
   "execution_count": 62,
   "metadata": {},
   "outputs": [
    {
     "name": "stdout",
     "output_type": "stream",
     "text": [
      "0 0\n"
     ]
    }
   ],
   "source": [
    "row, col = find_next_cell(input_grid)\n",
    "\n",
    "if row == -1 and col == -1:\n",
    "    print(\"全てのマスに数字が入っています\")\n",
    "else:\n",
    "    print(row, col)"
   ]
  },
  {
   "cell_type": "markdown",
   "metadata": {},
   "source": [
    "## 3. 数字を入力し、数独の法則に違反していないかチェックする "
   ]
  },
  {
   "cell_type": "code",
   "execution_count": 19,
   "metadata": {},
   "outputs": [],
   "source": [
    "def is_valid(grid, row, col, value):\n",
    "    # 行のチェック\n",
    "    is_row = value not in grid[row]\n",
    "    # 列のチェック\n",
    "    is_col = value not in [grid_col[:][col] for grid_col in grid]\n",
    "    # ブロックのチェック\n",
    "    block_row, block_col = (row//3) * 3, (col//3) * 3\n",
    "    is_block = [i[block_col:block_col + 3] for i in input_grid[block_row:block_row + 3]]\n",
    "    is_block = value not in sum(is_block, [])\n",
    "    return all([is_row, is_col, is_block])"
   ]
  },
  {
   "cell_type": "markdown",
   "metadata": {},
   "source": [
    "### 3.1 行の数字をチェック"
   ]
  },
  {
   "cell_type": "code",
   "execution_count": 22,
   "metadata": {},
   "outputs": [
    {
     "data": {
      "text/plain": [
       "[0, 1, 8, 0, 0, 0, 3, 2, 0]"
      ]
     },
     "execution_count": 22,
     "metadata": {},
     "output_type": "execute_result"
    }
   ],
   "source": [
    "input_grid[0]"
   ]
  },
  {
   "cell_type": "code",
   "execution_count": 3,
   "metadata": {},
   "outputs": [
    {
     "data": {
      "text/plain": [
       "[0, 1, 8, 0, 0, 0, 3, 2, 0]"
      ]
     },
     "execution_count": 3,
     "metadata": {},
     "output_type": "execute_result"
    }
   ],
   "source": [
    "input_grid[0]"
   ]
  },
  {
   "cell_type": "code",
   "execution_count": 23,
   "metadata": {},
   "outputs": [
    {
     "data": {
      "text/plain": [
       "[[0, 1, 8, 0, 0, 0, 3, 2, 0],\n",
       " [2, 5, 0, 0, 0, 0, 0, 4, 6],\n",
       " [0, 0, 4, 6, 5, 2, 1, 0, 0],\n",
       " [0, 0, 6, 0, 7, 0, 2, 0, 0],\n",
       " [0, 2, 0, 0, 4, 0, 0, 5, 0],\n",
       " [0, 0, 3, 1, 0, 8, 7, 0, 0],\n",
       " [0, 0, 2, 5, 3, 9, 4, 0, 0],\n",
       " [4, 9, 0, 0, 0, 0, 0, 8, 3],\n",
       " [0, 7, 0, 0, 0, 0, 0, 9, 0]]"
      ]
     },
     "execution_count": 23,
     "metadata": {},
     "output_type": "execute_result"
    }
   ],
   "source": [
    "input_grid"
   ]
  },
  {
   "cell_type": "code",
   "execution_count": 24,
   "metadata": {},
   "outputs": [
    {
     "data": {
      "text/plain": [
       "False"
      ]
     },
     "execution_count": 24,
     "metadata": {},
     "output_type": "execute_result"
    }
   ],
   "source": [
    "x = is_valid(input_grid, 0, 0, 5)\n",
    "x"
   ]
  },
  {
   "cell_type": "code",
   "execution_count": 24,
   "metadata": {},
   "outputs": [
    {
     "data": {
      "text/plain": [
       "[[0, 1, 8], [2, 5, 0], [0, 0, 4]]"
      ]
     },
     "execution_count": 24,
     "metadata": {},
     "output_type": "execute_result"
    }
   ],
   "source": [
    "row = 0\n",
    "col = 0\n",
    "\n",
    "row_str, row_end = row // 3, row // 3 + 3\n",
    "col_str, col_end = col // 3, col // 3 + 3\n",
    "is_block = [i[col_str:col_end] for i in input_grid[row_str:row_end]]\n",
    "is_block"
   ]
  },
  {
   "cell_type": "code",
   "execution_count": 26,
   "metadata": {},
   "outputs": [
    {
     "data": {
      "text/plain": [
       "[0, 1, 8, 2, 5, 0, 0, 0, 4]"
      ]
     },
     "execution_count": 26,
     "metadata": {},
     "output_type": "execute_result"
    }
   ],
   "source": [
    "sum(is_block, [])"
   ]
  },
  {
   "cell_type": "markdown",
   "metadata": {},
   "source": [
    "### 3.2 列の数字をチェックする"
   ]
  },
  {
   "cell_type": "code",
   "execution_count": 6,
   "metadata": {},
   "outputs": [
    {
     "data": {
      "text/plain": [
       "[0, 2, 0, 0, 0, 0, 0, 4, 0]"
      ]
     },
     "execution_count": 6,
     "metadata": {},
     "output_type": "execute_result"
    }
   ],
   "source": [
    "x = 0\n",
    "lists = []\n",
    "for i in input_grid:\n",
    "    lists.append(i[x])\n",
    "lists"
   ]
  },
  {
   "cell_type": "code",
   "execution_count": 9,
   "metadata": {},
   "outputs": [
    {
     "data": {
      "text/plain": [
       "[[0, 1, 8, 0, 0, 0, 3, 2, 0],\n",
       " [2, 5, 0, 0, 0, 0, 0, 4, 6],\n",
       " [0, 0, 4, 6, 5, 2, 1, 0, 0],\n",
       " [0, 2, 0, 0, 4, 0, 0, 5, 0],\n",
       " [0, 0, 3, 1, 0, 8, 7, 0, 0],\n",
       " [0, 0, 2, 5, 3, 9, 4, 0, 0],\n",
       " [0, 0, 2, 5, 3, 9, 4, 0, 0],\n",
       " [4, 9, 0, 0, 0, 0, 0, 8, 3],\n",
       " [0, 7, 0, 0, 0, 0, 0, 9, 0]]"
      ]
     },
     "execution_count": 9,
     "metadata": {},
     "output_type": "execute_result"
    }
   ],
   "source": [
    "input_grid"
   ]
  },
  {
   "cell_type": "code",
   "execution_count": 10,
   "metadata": {},
   "outputs": [],
   "source": [
    "for i in range(9):\n",
    "    for col in input_grid:\n",
    "        lists.append(col[:][i])"
   ]
  },
  {
   "cell_type": "code",
   "execution_count": 20,
   "metadata": {},
   "outputs": [],
   "source": [
    "lists = [col[:][0] for col in input_grid]"
   ]
  },
  {
   "cell_type": "code",
   "execution_count": 21,
   "metadata": {},
   "outputs": [
    {
     "data": {
      "text/plain": [
       "True"
      ]
     },
     "execution_count": 21,
     "metadata": {},
     "output_type": "execute_result"
    }
   ],
   "source": [
    "0 in lists"
   ]
  },
  {
   "cell_type": "markdown",
   "metadata": {},
   "source": [
    "### 3.3 ブロック3✖️3の数字のチェック"
   ]
  },
  {
   "cell_type": "code",
   "execution_count": 7,
   "metadata": {},
   "outputs": [
    {
     "data": {
      "text/plain": [
       "[[0, 1, 8, 0, 0, 0, 3, 2, 0],\n",
       " [2, 5, 0, 0, 0, 0, 0, 4, 6],\n",
       " [0, 0, 4, 6, 5, 2, 1, 0, 0]]"
      ]
     },
     "execution_count": 7,
     "metadata": {},
     "output_type": "execute_result"
    }
   ],
   "source": [
    "input_grid[0:3]"
   ]
  },
  {
   "cell_type": "code",
   "execution_count": 9,
   "metadata": {},
   "outputs": [
    {
     "name": "stdout",
     "output_type": "stream",
     "text": [
      "[0, 1, 8]\n",
      "[2, 5, 0]\n",
      "[0, 0, 4]\n"
     ]
    }
   ],
   "source": [
    "for i in input_grid[0:3]:\n",
    "    print(i[0:3])"
   ]
  },
  {
   "cell_type": "code",
   "execution_count": 10,
   "metadata": {},
   "outputs": [
    {
     "name": "stdout",
     "output_type": "stream",
     "text": [
      "[0, 0, 0]\n",
      "[0, 0, 0]\n",
      "[6, 5, 2]\n"
     ]
    }
   ],
   "source": [
    "for i in input_grid[0:3]:\n",
    "    print(i[3:6])"
   ]
  },
  {
   "cell_type": "code",
   "execution_count": 11,
   "metadata": {},
   "outputs": [
    {
     "name": "stdout",
     "output_type": "stream",
     "text": [
      "[3, 2, 0]\n",
      "[0, 4, 6]\n",
      "[1, 0, 0]\n"
     ]
    }
   ],
   "source": [
    "for i in input_grid[0:3]:\n",
    "    print(i[6:9])"
   ]
  },
  {
   "cell_type": "code",
   "execution_count": 13,
   "metadata": {},
   "outputs": [
    {
     "name": "stdout",
     "output_type": "stream",
     "text": [
      "[0, 0, 0]\n",
      "[6, 5, 2]\n",
      "[0, 4, 0]\n"
     ]
    }
   ],
   "source": [
    "row = 3\n",
    "block_row_str, block_row_end = row // 3, row // 3 + 3"
   ]
  },
  {
   "cell_type": "code",
   "execution_count": null,
   "metadata": {},
   "outputs": [],
   "source": [
    "block_col_str, block_col_end = col // 3, col //3 + 3"
   ]
  },
  {
   "cell_type": "code",
   "execution_count": 15,
   "metadata": {},
   "outputs": [
    {
     "name": "stdout",
     "output_type": "stream",
     "text": [
      "[0, 0, 0]\n",
      "[6, 5, 2]\n",
      "[0, 7, 0]\n"
     ]
    }
   ],
   "source": [
    "for i in input_grid[block_row_str:block_row_end]:\n",
    "    print(i[block_col_str:block_col_end])"
   ]
  },
  {
   "cell_type": "markdown",
   "metadata": {},
   "source": [
    "# 4.問題解決"
   ]
  },
  {
   "cell_type": "code",
   "execution_count": 17,
   "metadata": {},
   "outputs": [],
   "source": [
    "def solve_sudoku(grid, row=0, col=0):\n",
    "    # 空白のセルを探す\n",
    "    row, col = find_next_cell(input_grid)\n",
    "    # 終了判定\n",
    "    if row == -1 or col == -1:\n",
    "        return True\n",
    "    \n",
    "    # 入力\n",
    "    for value in range(1, 10):\n",
    "        if is_valid(grid, row, col, value):\n",
    "            grid[row][col] = value\n",
    "            # 次へ\n",
    "            if solve_sudoku(grid, row, col):\n",
    "                return True\n",
    "            grid[row][col] = 0\n",
    "    return False"
   ]
  },
  {
   "cell_type": "code",
   "execution_count": 18,
   "metadata": {},
   "outputs": [
    {
     "name": "stdout",
     "output_type": "stream",
     "text": [
      "True\n"
     ]
    },
    {
     "data": {
      "text/plain": [
       "[[6, 1, 8, 7, 9, 4, 3, 2, 5],\n",
       " [2, 5, 7, 8, 1, 3, 9, 4, 6],\n",
       " [9, 3, 4, 6, 5, 2, 1, 7, 8],\n",
       " [1, 8, 6, 9, 7, 5, 2, 3, 4],\n",
       " [7, 2, 9, 3, 4, 6, 8, 5, 1],\n",
       " [5, 4, 3, 1, 2, 8, 7, 6, 9],\n",
       " [8, 6, 2, 5, 3, 9, 4, 1, 7],\n",
       " [4, 9, 1, 2, 6, 7, 5, 8, 3],\n",
       " [3, 7, 5, 4, 8, 1, 6, 9, 2]]"
      ]
     },
     "execution_count": 18,
     "metadata": {},
     "output_type": "execute_result"
    }
   ],
   "source": [
    "print(solve_sudoku(input_grid))\n",
    "input_grid"
   ]
  },
  {
   "cell_type": "code",
   "execution_count": null,
   "metadata": {},
   "outputs": [],
   "source": []
  }
 ],
 "metadata": {
  "kernelspec": {
   "display_name": "venv",
   "language": "python",
   "name": "python3"
  },
  "language_info": {
   "codemirror_mode": {
    "name": "ipython",
    "version": 3
   },
   "file_extension": ".py",
   "mimetype": "text/x-python",
   "name": "python",
   "nbconvert_exporter": "python",
   "pygments_lexer": "ipython3",
   "version": "3.12.3"
  }
 },
 "nbformat": 4,
 "nbformat_minor": 2
}
